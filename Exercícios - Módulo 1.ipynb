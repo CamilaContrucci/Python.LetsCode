{
 "cells": [
  {
   "cell_type": "code",
   "execution_count": 8,
   "metadata": {},
   "outputs": [
    {
     "name": "stdout",
     "output_type": "stream",
     "text": [
      "O novo valor é 1700.0\n"
     ]
    }
   ],
   "source": [
    "## Exercício 1: \n",
    "# Faça um programa que peça um valor monetário e diminua-o em 15%. Seu programa deve imprimir a mensagem “O novo valor é [valor]”.\n",
    "\n",
    "valor_monetario = float(input(\"Digita um valor monetário: \"))\n",
    "valor = valor_monetario * 0.85 \n",
    "# 0.85 = valor_monetario - ((valor_monetario * 0.15) / 100) {regra de três}\n",
    "# 0.85 = valor_monetario - (valor_monetario * 0.15)\n",
    "print(f\"O novo valor é {valor}\")\n",
    "# print(f\"\") = imprimir uma f-string:\n",
    "#    These strings may contain replacement fields, which are expressions delimited by curly braces {}. While other string literals always have a constant value, formatted strings are really expressions evaluated at run time.\n",
    "\n",
    "\n"
   ]
  },
  {
   "cell_type": "code",
   "execution_count": 9,
   "metadata": {},
   "outputs": [
    {
     "ename": "NameError",
     "evalue": "name 'salario' is not defined",
     "output_type": "error",
     "traceback": [
      "\u001b[1;31m---------------------------------------------------------------------------\u001b[0m",
      "\u001b[1;31mNameError\u001b[0m                                 Traceback (most recent call last)",
      "Cell \u001b[1;32mIn [9], line 22\u001b[0m\n\u001b[0;32m     19\u001b[0m     sexo \u001b[38;5;241m=\u001b[39m \u001b[38;5;28minput\u001b[39m(\u001b[38;5;124m\"\u001b[39m\u001b[38;5;124mValor inválido. Digite um sexo com os valores a seguir: M, F, Outros\u001b[39m\u001b[38;5;124m\"\u001b[39m)\n\u001b[0;32m     20\u001b[0m     \u001b[38;5;66;03m# Os métodos upper() retornam a string em maiúsculas da string fornecida. Ele converte todos os caracteres minúsculos em maiúsculas. ]\u001b[39;00m\n\u001b[1;32m---> 22\u001b[0m \u001b[38;5;28mprint\u001b[39m(idade \u001b[38;5;241m+\u001b[39m \u001b[43msalario\u001b[49m \u001b[38;5;241m+\u001b[39m sexo)\n",
      "\u001b[1;31mNameError\u001b[0m: name 'salario' is not defined"
     ]
    }
   ],
   "source": [
    "## Exercício 2: \n",
    "# Faça um programa que leia a validade das informações: \n",
    "# a. Idade: entre 0 e 150; \n",
    "# b. Salário: maior que 0; \n",
    "# c. Sexo: M, F ou Outro; \n",
    "# O programa deve imprimir uma mensagem de erro para cada informação inválida.\n",
    "\n",
    "idade = int(input(\"Digite uma idade: \"))\n",
    "while idade <= 0 or idade >= 150:\n",
    "    idade = int(input(\"Valor inválido. Digite uma idade: \"))\n",
    "\n",
    "saLario = float(input(\"Digite um salário: \"))\n",
    "while saLario <= 0:\n",
    "    salario = int(input(\"Valor inválido. Digite um salário: \"))\n",
    "\n",
    "sexos = ['M', 'F', 'OUTROS']\n",
    "sexo = input(\"Digite um sexo com os valores a seguir: M, F, Outros\")\n",
    "while sexo.upper() not in sexos:\n",
    "    sexo = input(\"Valor inválido. Digite um sexo com os valores a seguir: M, F, Outros\")\n",
    "    # Os métodos upper() retornam a string em maiúsculas da string fornecida. Ele converte todos os caracteres minúsculos em maiúsculas. ]"
   ]
  },
  {
   "cell_type": "code",
   "execution_count": null,
   "metadata": {},
   "outputs": [],
   "source": [
    "## Exercício 3\n",
    "# Vamos fazer um programa para verificar quem é o assassino de um crime. Para descobrir o assassino, a polícia faz um pequeno questionário com 5 perguntas onde a resposta só pode ser sim ou não: \n",
    "# \ta. Mora perto da vítima? \n",
    "# \tb. Já trabalhou com a vítima? \n",
    "# \tc. Telefonou para a vítima? \n",
    "# \td. Esteve no local do crime? \n",
    "# \te. Devia para a vítima? \n",
    "# Cada resposta sim dá um ponto para o suspeito. A polícia considera que os suspeitos com 5 pontos são os assassinos, com 4 a 3 pontos são cúmplices e 2 pontos são apenas suspeitos, necessitando outras investigações. Valores iguais ou abaixo de 1 são liberados.\n",
    "\n",
    "perguntas = ['Mora perto da vítima? ','Já trabalhou com a vítima? ',\n",
    "            'Telefonou para a vítima? ','Esteve no local do crime? ',\n",
    "            'Devia para a vítima? ']\n",
    "opcoes= {\n",
    "    1: 'Liberado',\n",
    "    2: 'Suspeito',\n",
    "    3: 'Cumplice',\n",
    "    4: 'Cumplice',\n",
    "    5: 'Assassino'\n",
    "}\n",
    "contagem = 0\n",
    "possiveis = ['SIM', 'NÃO']\n",
    "print('Responda todas as perguntas apenas com sim ou não.')\n",
    "\n",
    "for pergunta in perguntas:\n",
    "    resposta = (input(pergunta))\n",
    "    while resposta.upper() not in possiveis:\n",
    "        resposta = input(f'Resposta inválida. {pergunta}')\n",
    "    if resposta.upper() == 'SIM':\n",
    "        contagem +=1\n",
    "    else:\n",
    "        pass\n",
    "\n",
    "print(opcoes[contagem])"
   ]
  },
  {
   "cell_type": "code",
   "execution_count": null,
   "metadata": {},
   "outputs": [],
   "source": [
    "## Exercício 4:\n",
    "# Faça um programa que imprima a tabuada do 9 (de 9*1 a 9*10) usando loops.\n",
    "\n",
    "tabuada = int(input('Digite o número que deseja fazer a tabuada: '))\n",
    "\n",
    "for i in range(1,11):\n",
    "    print(f'{tabuada} * {i} = {tabuada*i}')"
   ]
  }
 ],
 "metadata": {
  "kernelspec": {
   "display_name": "Python 3.10.7 64-bit",
   "language": "python",
   "name": "python3"
  },
  "language_info": {
   "codemirror_mode": {
    "name": "ipython",
    "version": 3
   },
   "file_extension": ".py",
   "mimetype": "text/x-python",
   "name": "python",
   "nbconvert_exporter": "python",
   "pygments_lexer": "ipython3",
   "version": "3.10.7"
  },
  "orig_nbformat": 4,
  "vscode": {
   "interpreter": {
    "hash": "c99d50ac714ba45fb0eb0aff8c3c1aacdb435f9214858b795071ae1d41832e8b"
   }
  }
 },
 "nbformat": 4,
 "nbformat_minor": 2
}
