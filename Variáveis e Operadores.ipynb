{
 "cells": [
  {
   "cell_type": "code",
   "execution_count": 12,
   "metadata": {},
   "outputs": [
    {
     "name": "stdout",
     "output_type": "stream",
     "text": [
      "5\n",
      "<class 'int'>\n",
      "19.99 <class 'float'>\n",
      "São Paulo <class 'str'>\n",
      "True <class 'bool'>\n",
      "52\n",
      "48\n",
      "100\n",
      "25.0\n",
      "2500\n",
      "25\n",
      "0\n",
      "False\n",
      "True\n",
      "False\n",
      "True\n",
      "False\n",
      "False\n",
      "True\n",
      "False\n",
      "True\n"
     ]
    }
   ],
   "source": [
    "# TIPOS DE VARIÁVEIS #\n",
    "\n",
    "x = 5 #definindo uma variável e atribuindo valor numérico#\n",
    "print (x) #imprimindo o valor da variável#\n",
    "\n",
    "print(type(x)) #imprime o tipo/categoria da variável#\n",
    "\n",
    "preço = 19.99\n",
    "print(preço, type(preço)) #pode imprimir múltiplas informações#\n",
    "\n",
    "cidade = \"São Paulo\" #pode utilizar aspas duplas \" \" ou simples ' '.\n",
    "print(cidade, type(cidade))\n",
    "\n",
    "disponivel = True\n",
    "print(disponivel, type(disponivel))\n",
    "\n",
    "\n",
    "# OPERADORES #\n",
    "\n",
    "z = 50\n",
    "y = 2\n",
    "\n",
    "print(z + y) #soma\n",
    "print(z - y) #subtração\n",
    "print(z * y) #multiplicação\n",
    "print(z / y) #divisão com resto\n",
    "print(z ** y) #exponenciação\n",
    "print(z // y) #divisão inteira, ignora a parte decimal, não arredonda\n",
    "print(z % y) #\n",
    "\n",
    "tem_cafe = True\n",
    "tem_pao = False\n",
    "\n",
    "print(not tem_cafe) #inverte o valor\n",
    "print(tem_cafe or tem_pao) #retorna o valor verdadeiro quando ao menos um deles é verdadeiro\n",
    "print(tem_cafe and tem_pao) #só retorna um valor verdadeiro, se ambas as expressões são verdadeiras\n",
    "\n",
    "\n",
    "dolar = 5.3\n",
    "real = 1\n",
    "print(dolar > real) #se dolar é maior que real\n",
    "print(dolar < real) #se dolar é menor que real\n",
    "print(dolar == real) #se são iguais\n",
    "print(dolar >= real) #se dolar é maior ou igual a real\n",
    "print(dolar <= real) #se dolar é menor ou igual a real\n",
    "print(dolar != real) #se são diferentes\n"
   ]
  }
 ],
 "metadata": {
  "kernelspec": {
   "display_name": "Python 3.10.7 64-bit",
   "language": "python",
   "name": "python3"
  },
  "language_info": {
   "codemirror_mode": {
    "name": "ipython",
    "version": 3
   },
   "file_extension": ".py",
   "mimetype": "text/x-python",
   "name": "python",
   "nbconvert_exporter": "python",
   "pygments_lexer": "ipython3",
   "version": "3.10.7"
  },
  "orig_nbformat": 4,
  "vscode": {
   "interpreter": {
    "hash": "c99d50ac714ba45fb0eb0aff8c3c1aacdb435f9214858b795071ae1d41832e8b"
   }
  }
 },
 "nbformat": 4,
 "nbformat_minor": 2
}
