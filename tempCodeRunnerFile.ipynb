
idade = int(input("Digite uma idade: "))
while idade <= 0 or idade >= 150:
    idade = int(input("Valor inválido. Digite uma idade: "))

saLario = float(input("Digite um salário: "))
while saLario <= 0:
    salario = int(input("Valor inválido. Digite um salário: "))

sexos = ['M', 'F', 'OUTROS']
sexo = input("Digite um sexo com os valores a seguir: M, F, Outros")
while sexo.upper() not in sexos:
    sexo = input("Valor inválido. Digite um sexo com os valores a seguir: M, F, Outros")
    # Os métodos upper() retornam a string em maiúsculas da string fornecida. Ele converte todos os caracteres minúsculos em maiúsculas. 

print(f'Você possui {idade}, recebe {salario} reais de salário e é {sexo}')